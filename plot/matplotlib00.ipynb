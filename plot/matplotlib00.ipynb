{
 "cells": [
  {
   "cell_type": "code",
   "execution_count": 5,
   "metadata": {},
   "outputs": [
    {
     "name": "stdout",
     "output_type": "stream",
     "text": [
      "シードを一度だけ初期化場合\n",
      "X: [-0.79607063  1.22770415 -1.78527494  1.2480875  -0.39818839]\n",
      "Y: [-0.73670508 -0.41352381  0.50790852  0.09006339 -1.29909531]\n",
      "シードを都度初期化した場合\n",
      "x: [ 1.76405235  0.40015721  0.97873798  2.2408932   1.86755799]\n",
      "y: [ 1.76405235  0.40015721  0.97873798  2.2408932   1.86755799]\n"
     ]
    }
   ],
   "source": [
    "'''\n",
    "[シード設定]\n",
    "シード を固定することでつねに 同じ乱数列 を生成することができる。\n",
    "同じ乱数列を使用することによって、同じ条件であれば乱数を用いて\n",
    "も同様の計算結果を再現できるようになる。\n",
    "'''\n",
    "\n",
    "import numpy as np\n",
    "\n",
    "# 初期化せず適当な乱数が一致するかを確認\n",
    "# X,Yにそれぞれ5つの乱数を格納\n",
    "X = np.random.randn(5)\n",
    "Y = np.random.randn(5)\n",
    "\n",
    "# X,Yの値を出力し、一致するか確認する\n",
    "print(\"シードを一度だけ初期化場合\")\n",
    "print(\"X:\",X)\n",
    "print(\"Y:\",Y)\n",
    "\n",
    "# シード初期化\n",
    "np.random.seed(0)\n",
    "\n",
    "# 乱数列を変数に代入\n",
    "x = np.random.randn(5)\n",
    "\n",
    "# シードを再度初期化\n",
    "np.random.seed(0)\n",
    "\n",
    "# 再び乱数列を作る\n",
    "y = np.random.randn(5)\n",
    "\n",
    "# x,yの値を出力し、一致するか確認する\n",
    "print(\"シードを都度初期化した場合\")\n",
    "print(\"x:\",x)\n",
    "print(\"y:\",y)"
   ]
  },
  {
   "cell_type": "code",
   "execution_count": 3,
   "metadata": {},
   "outputs": [
    {
     "data": {
      "image/png": "[encoded data removed]",
      "text/plain": [
       "<matplotlib.figure.Figure at 0x1116f9898>"
      ]
     },
     "metadata": {},
     "output_type": "display_data"
    }
   ],
   "source": [
    "# 正規分布に従う乱数を生成する\n",
    "\n",
    "import numpy as np\n",
    "import matplotlib.pyplot as plt\n",
    "\n",
    "# シード初期化\n",
    "np.random.seed(0)\n",
    "\n",
    "# 正規分布に従う乱数を10000個生成\n",
    "x = np.random.randn(10000)\n",
    "\n",
    "# 可視化\n",
    "plt.hist(x, bins='auto')\n",
    "plt.show()"
   ]
  },
  {
   "cell_type": "code",
   "execution_count": 4,
   "metadata": {},
   "outputs": [
    {
     "name": "stdout",
     "output_type": "stream",
     "text": [
      "0.49832\n"
     ]
    }
   ],
   "source": [
    "#  二項分布に従う乱数を生成する\n",
    "\n",
    "import numpy as np\n",
    "\n",
    "# シード初期化\n",
    "np.random.seed(0)\n",
    "\n",
    "# 0.5の確率で成功する試行を100回行なったときの成功数を10000回分求めて変数numsに代入\n",
    "nums = np.random.binomial(100, 0.5, size=10000)\n",
    "\n",
    "# 成功率の平均\n",
    "print(nums.mean()/100)"
   ]
  },
  {
   "cell_type": "code",
   "execution_count": 1,
   "metadata": {},
   "outputs": [
    {
     "name": "stdout",
     "output_type": "stream",
     "text": [
      "['Kiwifruit' 'Strawberry' 'Apple' 'Pineapple' 'Pineapple']\n",
      "2000-10-22 00:00:00\n",
      "1:30:00\n",
      "2001-10-23 00:00:00\n"
     ]
    }
   ],
   "source": [
    "'''\n",
    "リストからランダムに選択する\n",
    "'''\n",
    "import numpy as np\n",
    "\n",
    "x = ['Apple', 'Orange', 'Banana', 'Pineapple', 'Kiwifruit', 'Strawberry']\n",
    "\n",
    "np.random.seed(0)\n",
    "# xの中からランダムに5個選ぶ\n",
    "y = np.random.choice(x, 5)\n",
    "\n",
    "print(y)\n",
    "\n",
    "'''\n",
    "Pythonには日付や時刻を扱うためのdatetimeというデータ型が用意されている。\n",
    "datetime.datetime(年, 月, 日, 時, 分, 秒, ミリ秒)を指定すると、指定したデータを持つ\n",
    "datetimeオブジェクトを返す\n",
    "'''\n",
    "import datetime as dt\n",
    "\n",
    "# 2000年10月22日を表すdatetimeオブジェクト\n",
    "x = dt.datetime(2000, 10, 22)\n",
    "\n",
    "print(x)\n",
    "\n",
    "'''\n",
    "datatime.timedelta型は時間の長さを表すデータ型\n",
    "hours=4, minutes=10などのように指定することで時間や分単位の指定ができる\n",
    "'''\n",
    "\n",
    "# 1時間半を表すtimedeltaオブジェクト\n",
    "x = dt.timedelta(hours=1, minutes=30)\n",
    "print(x)\n",
    "\n",
    "'''\n",
    "datetime型とtimedelta型の演算\n",
    "'''\n",
    "# 2001年10月22日を表すdatetimeオブジェクト\n",
    "x = dt.datetime(2001, 10, 22)\n",
    "\n",
    "# xから1日後\n",
    "y = x + dt.timedelta(days=1)  # dt.timedelta(1) でもok\n",
    "print(y)"
   ]
  },
  {
   "cell_type": "code",
   "execution_count": null,
   "metadata": {},
   "outputs": [],
   "source": []
  }
 ],
 "metadata": {
  "kernelspec": {
   "display_name": "Python 3",
   "language": "python",
   "name": "python3"
  },
  "language_info": {
   "codemirror_mode": {
    "name": "ipython",
    "version": 3
   },
   "file_extension": ".py",
   "mimetype": "text/x-python",
   "name": "python",
   "nbconvert_exporter": "python",
   "pygments_lexer": "ipython3",
   "version": "3.6.1"
  }
 },
 "nbformat": 4,
 "nbformat_minor": 2
}
